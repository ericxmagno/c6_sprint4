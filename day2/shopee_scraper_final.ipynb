{
 "cells": [
  {
   "cell_type": "code",
   "execution_count": 11,
   "metadata": {},
   "outputs": [
    {
     "name": "stdout",
     "output_type": "stream",
     "text": [
      "len: 50\n",
      "6472756\n"
     ]
    }
   ],
   "source": [
    "import selenium.webdriver\n",
    "from selenium.webdriver.common.action_chains import ActionChains\n",
    "\n",
    "import time\n",
    "url = 'https://shopee.ph/search?keyword=maytag'\n",
    "\n",
    "driver = selenium.webdriver.Firefox()\n",
    "driver.get(url)\n",
    "time.sleep(1)\n",
    "\n",
    "# # select language\n",
    "# driver.find_element_by_xpath('//div[@class=\"language-selection__list\"]/button').click()\n",
    "# time.sleep(3)\n",
    "\n",
    "# scroll few times to load all items \n",
    "for x in range(10):\n",
    "    driver.execute_script(\"window.scrollBy(0,300)\")\n",
    "    time.sleep(0.1)\n",
    "\n",
    "# get all links\n",
    "all_items = driver.find_elements_by_xpath('//span[@class=\"_1xk7ak\"]')\n",
    "print('len:', len(all_items))\n",
    "\n",
    "total = 0\n",
    "for item in all_items:\n",
    "    price = item.text\n",
    "    total += int(price.replace(',', ''))\n",
    "\n",
    "print(total)"
   ]
  },
  {
   "cell_type": "code",
   "execution_count": null,
   "metadata": {},
   "outputs": [],
   "source": [
    "3300"
   ]
  }
 ],
 "metadata": {
  "kernelspec": {
   "display_name": "Python 3",
   "language": "python",
   "name": "python3"
  },
  "language_info": {
   "codemirror_mode": {
    "name": "ipython",
    "version": 3
   },
   "file_extension": ".py",
   "mimetype": "text/x-python",
   "name": "python",
   "nbconvert_exporter": "python",
   "pygments_lexer": "ipython3",
   "version": "3.8.5"
  }
 },
 "nbformat": 4,
 "nbformat_minor": 4
}
