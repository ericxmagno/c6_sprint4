{
 "cells": [
  {
   "cell_type": "code",
   "execution_count": 1,
   "metadata": {},
   "outputs": [],
   "source": [
    "import requests\n",
    "from bs4 import BeautifulSoup"
   ]
  },
  {
   "cell_type": "code",
   "execution_count": 18,
   "metadata": {},
   "outputs": [],
   "source": [
    "url = 'https://api.yelp.com/v3/businesses/search'\n",
    "api_key = 'PpCf0_3hYZ34RWRU-rlJyGRrzTgzMx9v8rZ2HTaqlYpTANCOfISSTULAp-TkiGuFpycC-U8U31BSRGMacwIPC9J95x3lqfgCk0XjWJECjjKvRvsultGgbkuG2SA-YHYx'\n",
    "\n",
    "def get_business(location, term, api_key):\n",
    "    headers = {'Authorization': 'Bearer %s' % api_key}\n",
    "    \n",
    "    data = []\n",
    "    for offset in range(0, 1000, 50):\n",
    "        params = {\n",
    "            'limit': 50,\n",
    "            'location': location.replace(' ', '+'),\n",
    "            'term': term.replace(' ', '+'),\n",
    "            'offset': offset\n",
    "        }\n",
    "        \n",
    "        response = requests.get(url, headers=headers, params=params)\n",
    "        if response.status_code == 200:\n",
    "            data += response.json()['businesses']\n",
    "        elif response.status_code == 400:\n",
    "            print('400 Bad Request')\n",
    "            break\n",
    "    return data"
   ]
  },
  {
   "cell_type": "code",
   "execution_count": 22,
   "metadata": {},
   "outputs": [],
   "source": [
    "malls = get_business('davao', 'mall', api_key)"
   ]
  },
  {
   "cell_type": "code",
   "execution_count": 23,
   "metadata": {},
   "outputs": [
    {
     "data": {
      "text/plain": [
       "5"
      ]
     },
     "execution_count": 23,
     "metadata": {},
     "output_type": "execute_result"
    }
   ],
   "source": [
    "len(malls)"
   ]
  },
  {
   "cell_type": "code",
   "execution_count": 24,
   "metadata": {},
   "outputs": [
    {
     "data": {
      "text/plain": [
       "[{'id': 'Foyn6wLF5KYTyK0Tww51wg',\n",
       "  'alias': 'gaisano-mall-davao-city',\n",
       "  'name': 'Gaisano Mall',\n",
       "  'image_url': 'https://s3-media1.fl.yelpcdn.com/bphoto/dQUS2zr7G23afFuMFr_O8Q/o.jpg',\n",
       "  'is_closed': False,\n",
       "  'url': 'https://www.yelp.com/biz/gaisano-mall-davao-city?adjust_creative=uWiQ1HFqJ6WcbLhfGkO39Q&utm_campaign=yelp_api_v3&utm_medium=api_v3_business_search&utm_source=uWiQ1HFqJ6WcbLhfGkO39Q',\n",
       "  'review_count': 3,\n",
       "  'categories': [{'alias': 'shoppingcenters', 'title': 'Shopping Centers'}],\n",
       "  'rating': 3.5,\n",
       "  'coordinates': {'latitude': 7.07799341139518, 'longitude': 125.613887688781},\n",
       "  'transactions': [],\n",
       "  'price': '₱₱',\n",
       "  'location': {'address1': 'J P Laurel Avenue',\n",
       "   'address2': 'Poblacion District',\n",
       "   'address3': None,\n",
       "   'city': 'Davao City',\n",
       "   'zip_code': '8000',\n",
       "   'country': 'PH',\n",
       "   'state': 'DAS',\n",
       "   'display_address': ['J P Laurel Avenue',\n",
       "    'Poblacion District',\n",
       "    'Davao City, 8000 Davao del Sur',\n",
       "    'Philippines']},\n",
       "  'phone': '+63822221411',\n",
       "  'display_phone': '+63 82 222 1411',\n",
       "  'distance': 26578.5856458735},\n",
       " {'id': 'BKxRaYL_48lmpQX_o_zDCg',\n",
       "  'alias': 'sm-lanang-premier-davao-city',\n",
       "  'name': 'SM Lanang Premier',\n",
       "  'image_url': 'https://s3-media2.fl.yelpcdn.com/bphoto/FI-duWlB8rfY-Hxf_KQ6rg/o.jpg',\n",
       "  'is_closed': False,\n",
       "  'url': 'https://www.yelp.com/biz/sm-lanang-premier-davao-city?adjust_creative=uWiQ1HFqJ6WcbLhfGkO39Q&utm_campaign=yelp_api_v3&utm_medium=api_v3_business_search&utm_source=uWiQ1HFqJ6WcbLhfGkO39Q',\n",
       "  'review_count': 1,\n",
       "  'categories': [{'alias': 'shoppingcenters', 'title': 'Shopping Centers'}],\n",
       "  'rating': 5.0,\n",
       "  'coordinates': {'latitude': 7.098409878224, 'longitude': 125.630626524159},\n",
       "  'transactions': [],\n",
       "  'price': '₱₱',\n",
       "  'location': {'address1': 'J.P. Laurel Avenue',\n",
       "   'address2': 'Barangay San Antonio, Agdao District',\n",
       "   'address3': None,\n",
       "   'city': 'Davao City',\n",
       "   'zip_code': '8000',\n",
       "   'country': 'PH',\n",
       "   'state': 'DAS',\n",
       "   'display_address': ['J.P. Laurel Avenue',\n",
       "    'Barangay San Antonio, Agdao District',\n",
       "    'Davao City, 8000 Davao del Sur',\n",
       "    'Philippines']},\n",
       "  'phone': '+6322850943',\n",
       "  'display_phone': '+63 2 285 0943',\n",
       "  'distance': 26328.363349037307},\n",
       " {'id': 'tXUNOIvEo_HE-xds8rjuaw',\n",
       "  'alias': 'abreeza-mall-davao-city',\n",
       "  'name': 'Abreeza Mall',\n",
       "  'image_url': 'https://s3-media1.fl.yelpcdn.com/bphoto/F6cAHYhhh7O2DFM6YkVIEw/o.jpg',\n",
       "  'is_closed': False,\n",
       "  'url': 'https://www.yelp.com/biz/abreeza-mall-davao-city?adjust_creative=uWiQ1HFqJ6WcbLhfGkO39Q&utm_campaign=yelp_api_v3&utm_medium=api_v3_business_search&utm_source=uWiQ1HFqJ6WcbLhfGkO39Q',\n",
       "  'review_count': 1,\n",
       "  'categories': [{'alias': 'shoppingcenters', 'title': 'Shopping Centers'}],\n",
       "  'rating': 4.0,\n",
       "  'coordinates': {'latitude': 7.09114451747297, 'longitude': 125.611598101975},\n",
       "  'transactions': [],\n",
       "  'price': '₱₱₱',\n",
       "  'location': {'address1': 'JP Laurel Avenue',\n",
       "   'address2': '',\n",
       "   'address3': None,\n",
       "   'city': 'Davao City',\n",
       "   'zip_code': '8000',\n",
       "   'country': 'PH',\n",
       "   'state': 'DAS',\n",
       "   'display_address': ['JP Laurel Avenue',\n",
       "    'Davao City, 8000 Davao del Sur',\n",
       "    'Philippines']},\n",
       "  'phone': '+63823219332',\n",
       "  'display_phone': '+63 82 321 9332',\n",
       "  'distance': 25347.043800864343},\n",
       " {'id': 'l8cw7oWwV4xKk8bu-7ZSXQ',\n",
       "  'alias': 'sm-city-davao-city',\n",
       "  'name': 'SM City',\n",
       "  'image_url': 'https://s3-media2.fl.yelpcdn.com/bphoto/6I5hU7LMCLh2EGc-iA6JcA/o.jpg',\n",
       "  'is_closed': False,\n",
       "  'url': 'https://www.yelp.com/biz/sm-city-davao-city?adjust_creative=uWiQ1HFqJ6WcbLhfGkO39Q&utm_campaign=yelp_api_v3&utm_medium=api_v3_business_search&utm_source=uWiQ1HFqJ6WcbLhfGkO39Q',\n",
       "  'review_count': 1,\n",
       "  'categories': [{'alias': 'shoppingcenters', 'title': 'Shopping Centers'}],\n",
       "  'rating': 4.0,\n",
       "  'coordinates': {'latitude': 7.04976511994211, 'longitude': 125.588085651398},\n",
       "  'transactions': [],\n",
       "  'price': '₱₱₱',\n",
       "  'location': {'address1': 'Quimpo Boulevard',\n",
       "   'address2': 'Talomo',\n",
       "   'address3': None,\n",
       "   'city': 'Davao City',\n",
       "   'zip_code': '8000',\n",
       "   'country': 'PH',\n",
       "   'state': 'DAS',\n",
       "   'display_address': ['Quimpo Boulevard',\n",
       "    'Talomo',\n",
       "    'Davao City, 8000 Davao del Sur',\n",
       "    'Philippines']},\n",
       "  'phone': '+63822976998',\n",
       "  'display_phone': '+63 82 297 6998',\n",
       "  'distance': 27274.78336630961},\n",
       " {'id': '--4sEzaA5Ns1RGN3EoCZjA',\n",
       "  'alias': 's-and-r-membership-shopping-davao-city',\n",
       "  'name': 'S&R Membership Shopping',\n",
       "  'image_url': 'https://s3-media2.fl.yelpcdn.com/bphoto/NWRbriywl37fhXwhPASRJw/o.jpg',\n",
       "  'is_closed': False,\n",
       "  'url': 'https://www.yelp.com/biz/s-and-r-membership-shopping-davao-city?adjust_creative=uWiQ1HFqJ6WcbLhfGkO39Q&utm_campaign=yelp_api_v3&utm_medium=api_v3_business_search&utm_source=uWiQ1HFqJ6WcbLhfGkO39Q',\n",
       "  'review_count': 1,\n",
       "  'categories': [{'alias': 'deptstores', 'title': 'Department Stores'}],\n",
       "  'rating': 4.0,\n",
       "  'coordinates': {'latitude': 7.06269194344497, 'longitude': 125.593108087778},\n",
       "  'transactions': [],\n",
       "  'price': '₱₱',\n",
       "  'location': {'address1': 'Gen. Douglas McArthur Highway, Barangay Ma-a',\n",
       "   'address2': 'Talomo',\n",
       "   'address3': None,\n",
       "   'city': 'Davao City',\n",
       "   'zip_code': '',\n",
       "   'country': 'PH',\n",
       "   'state': 'DAS',\n",
       "   'display_address': ['Gen. Douglas McArthur Highway, Barangay Ma-a',\n",
       "    'Talomo',\n",
       "    'Davao City, Davao del Sur',\n",
       "    'Philippines']},\n",
       "  'phone': '+63822990909',\n",
       "  'display_phone': '+63 82 299 0909',\n",
       "  'distance': 26421.240074171914}]"
      ]
     },
     "execution_count": 24,
     "metadata": {},
     "output_type": "execute_result"
    }
   ],
   "source": [
    "malls"
   ]
  },
  {
   "cell_type": "code",
   "execution_count": null,
   "metadata": {},
   "outputs": [],
   "source": []
  }
 ],
 "metadata": {
  "kernelspec": {
   "display_name": "Python 3",
   "language": "python",
   "name": "python3"
  },
  "language_info": {
   "codemirror_mode": {
    "name": "ipython",
    "version": 3
   },
   "file_extension": ".py",
   "mimetype": "text/x-python",
   "name": "python",
   "nbconvert_exporter": "python",
   "pygments_lexer": "ipython3",
   "version": "3.8.5"
  }
 },
 "nbformat": 4,
 "nbformat_minor": 4
}
