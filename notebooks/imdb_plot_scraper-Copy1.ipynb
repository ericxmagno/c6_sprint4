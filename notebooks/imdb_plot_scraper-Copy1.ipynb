{
 "cells": [
  {
   "cell_type": "code",
   "execution_count": 1,
   "metadata": {},
   "outputs": [
    {
     "name": "stdout",
     "output_type": "stream",
     "text": [
      "Collecting git+https://github.com/alberanid/imdbpy\n",
      "  Cloning https://github.com/alberanid/imdbpy to c:\\users\\eric\\appdata\\local\\temp\\pip-req-build-cc91rftu\n",
      "Requirement already satisfied: SQLAlchemy in c:\\users\\eric\\scoop\\apps\\miniconda3\\4.9.2\\lib\\site-packages (from IMDbPY==2021.2.24) (1.3.23)\n",
      "Requirement already satisfied: lxml in c:\\users\\eric\\scoop\\apps\\miniconda3\\4.9.2\\lib\\site-packages (from IMDbPY==2021.2.24) (4.6.2)\n"
     ]
    }
   ],
   "source": [
    "!pip install git+https://github.com/alberanid/imdbpy"
   ]
  },
  {
   "cell_type": "code",
   "execution_count": 2,
   "metadata": {},
   "outputs": [
    {
     "name": "stdout",
     "output_type": "stream",
     "text": [
      "Requirement already satisfied: tqdm in c:\\users\\eric\\scoop\\apps\\miniconda3\\4.9.2\\lib\\site-packages (4.55.1)\n"
     ]
    }
   ],
   "source": [
    "!pip install tqdm"
   ]
  },
  {
   "cell_type": "code",
   "execution_count": 3,
   "metadata": {},
   "outputs": [],
   "source": [
    "import pandas as pd\n",
    "import numpy as np\n",
    "import imdb\n",
    "import requests\n",
    "from bs4 import BeautifulSoup"
   ]
  },
  {
   "cell_type": "code",
   "execution_count": 4,
   "metadata": {},
   "outputs": [],
   "source": [
    "ia = imdb.IMDb()"
   ]
  },
  {
   "cell_type": "code",
   "execution_count": 5,
   "metadata": {
    "scrolled": true
   },
   "outputs": [
    {
     "data": {
      "text/html": [
       "<div>\n",
       "<style scoped>\n",
       "    .dataframe tbody tr th:only-of-type {\n",
       "        vertical-align: middle;\n",
       "    }\n",
       "\n",
       "    .dataframe tbody tr th {\n",
       "        vertical-align: top;\n",
       "    }\n",
       "\n",
       "    .dataframe thead th {\n",
       "        text-align: right;\n",
       "    }\n",
       "</style>\n",
       "<table border=\"1\" class=\"dataframe\">\n",
       "  <thead>\n",
       "    <tr style=\"text-align: right;\">\n",
       "      <th></th>\n",
       "      <th>Title</th>\n",
       "      <th>Year</th>\n",
       "    </tr>\n",
       "  </thead>\n",
       "  <tbody>\n",
       "    <tr>\n",
       "      <th>0</th>\n",
       "      <td>Insiang</td>\n",
       "      <td>(1976)</td>\n",
       "    </tr>\n",
       "    <tr>\n",
       "      <th>1</th>\n",
       "      <td>Ipaglaban mo</td>\n",
       "      <td>(2014– )</td>\n",
       "    </tr>\n",
       "    <tr>\n",
       "      <th>2</th>\n",
       "      <td>Just the Way You Are</td>\n",
       "      <td>(2015)</td>\n",
       "    </tr>\n",
       "    <tr>\n",
       "      <th>3</th>\n",
       "      <td>Mula sa kung ano ang noon</td>\n",
       "      <td>(2014)</td>\n",
       "    </tr>\n",
       "    <tr>\n",
       "      <th>4</th>\n",
       "      <td>Dead Kids</td>\n",
       "      <td>(2019)</td>\n",
       "    </tr>\n",
       "    <tr>\n",
       "      <th>...</th>\n",
       "      <td>...</td>\n",
       "      <td>...</td>\n",
       "    </tr>\n",
       "    <tr>\n",
       "      <th>19495</th>\n",
       "      <td>Metamorphosis</td>\n",
       "      <td>(VI) (2019)</td>\n",
       "    </tr>\n",
       "    <tr>\n",
       "      <th>19496</th>\n",
       "      <td>Quezon's Game</td>\n",
       "      <td>(2018)</td>\n",
       "    </tr>\n",
       "    <tr>\n",
       "      <th>19497</th>\n",
       "      <td>My Ex and Whys</td>\n",
       "      <td>(2017)</td>\n",
       "    </tr>\n",
       "    <tr>\n",
       "      <th>19498</th>\n",
       "      <td>The Twilight People</td>\n",
       "      <td>(1972)</td>\n",
       "    </tr>\n",
       "    <tr>\n",
       "      <th>19499</th>\n",
       "      <td>Macho Dancer</td>\n",
       "      <td>(1988)</td>\n",
       "    </tr>\n",
       "  </tbody>\n",
       "</table>\n",
       "<p>19500 rows × 2 columns</p>\n",
       "</div>"
      ],
      "text/plain": [
       "                           Title         Year\n",
       "0                        Insiang       (1976)\n",
       "1                   Ipaglaban mo     (2014– )\n",
       "2           Just the Way You Are       (2015)\n",
       "3      Mula sa kung ano ang noon       (2014)\n",
       "4                      Dead Kids       (2019)\n",
       "...                          ...          ...\n",
       "19495              Metamorphosis  (VI) (2019)\n",
       "19496              Quezon's Game       (2018)\n",
       "19497             My Ex and Whys       (2017)\n",
       "19498        The Twilight People       (1972)\n",
       "19499               Macho Dancer       (1988)\n",
       "\n",
       "[19500 rows x 2 columns]"
      ]
     },
     "execution_count": 5,
     "metadata": {},
     "output_type": "execute_result"
    }
   ],
   "source": [
    "df_movies = pd.read_csv('scraped_imdb_ph.csv', index_col=0)\n",
    "df_movies"
   ]
  },
  {
   "cell_type": "code",
   "execution_count": 6,
   "metadata": {},
   "outputs": [],
   "source": [
    "import re\n",
    "\n",
    "df_movies['Year'] = df_movies['Year'].map(lambda s: re.search('\\d{4}', str(s)).group() if re.search('\\d{4}', str(s)) else None)\n",
    "df_movies.dropna(inplace=True)\n",
    "df_movies['Year'] = df_movies['Year'].astype(int)"
   ]
  },
  {
   "cell_type": "code",
   "execution_count": null,
   "metadata": {
    "scrolled": false
   },
   "outputs": [
    {
     "name": "stderr",
     "output_type": "stream",
     "text": [
      "Forevermore 27: : 27it [03:55, 11.28s/it]                 "
     ]
    }
   ],
   "source": [
    "import imdb\n",
    "from tqdm import tqdm\n",
    "\n",
    "ia = imdb.IMDb()\n",
    "\n",
    "bar = tqdm(df_movies.iloc[0:].iterrows())\n",
    "\n",
    "for index, row in bar:\n",
    "    movies = ia.search_movie(row['Title'])\n",
    "    if movies:\n",
    "        correct_movie = None\n",
    "        for movie in movies[:5]:\n",
    "            bar.set_description(row['Title'] +' '+ str(index))\n",
    "            m = ia.get_movie(movie.getID())\n",
    "            if m.get('year') == row['Year']:\n",
    "                correct_movie = m\n",
    "            if correct_movie:\n",
    "                break\n",
    "        if correct_movie:\n",
    "            url = ia.get_imdbURL(m)\n",
    "            src = requests.get(url, headers = {'User-Agent':'Mozilla/5.0 (X11; Linux)'})\n",
    "            soup = BeautifulSoup(src.content, 'lxml')\n",
    "            try:\n",
    "                genre = soup.find('div', {'class': 'subtext'}).text.split('|')[-2].replace('\\n', '')\n",
    "                df_movies.loc[index, 'Genre'] = genre\n",
    "            except:\n",
    "                pass\n",
    "            try:\n",
    "                plot = soup.find('div', {'class': 'inline canwrap'}).text.replace('\\n', '').strip()\n",
    "                df_movies.loc[index, 'Plot'] = plot\n",
    "            except:\n",
    "                pass\n",
    "            kind = m.get('kind')    \n",
    "            if kind:\n",
    "                df_movies.loc[index, 'Kind'] = kind\n",
    "    if index % 50 == 1:\n",
    "        df_movies.to_csv('ph_media_updated.csv', index=False)"
   ]
  },
  {
   "cell_type": "code",
   "execution_count": null,
   "metadata": {},
   "outputs": [],
   "source": []
  }
 ],
 "metadata": {
  "kernelspec": {
   "display_name": "Python 3",
   "language": "python",
   "name": "python3"
  },
  "language_info": {
   "codemirror_mode": {
    "name": "ipython",
    "version": 3
   },
   "file_extension": ".py",
   "mimetype": "text/x-python",
   "name": "python",
   "nbconvert_exporter": "python",
   "pygments_lexer": "ipython3",
   "version": "3.8.5"
  }
 },
 "nbformat": 4,
 "nbformat_minor": 4
}
