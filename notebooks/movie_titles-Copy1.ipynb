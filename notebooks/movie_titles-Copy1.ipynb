{
 "cells": [
  {
   "cell_type": "code",
   "execution_count": 3,
   "metadata": {},
   "outputs": [],
   "source": [
    "from bs4 import BeautifulSoup\n",
    "import requests\n",
    "import numpy as np\n",
    "import pandas as pd"
   ]
  },
  {
   "cell_type": "code",
   "execution_count": 3,
   "metadata": {},
   "outputs": [],
   "source": [
    "try:\n",
    "    while True:\n",
    "        index = 1\n",
    "        base_url = f\"https://www.imdb.com/search/title/?country_of_origin=ph&start={index}\"\n",
    "        src = requests.get(base_url, headers = {'User-Agent':'Mozilla/5.0 (X11; Linux)'})\n",
    "        soup = BeautifulSoup(src.content, 'lxml')\n",
    "        divs = soup.find_all('div', {'class':'lister-item mode-advanced'})\n",
    "except:"
   ]
  },
  {
   "cell_type": "code",
   "execution_count": 28,
   "metadata": {},
   "outputs": [
    {
     "name": "stdout",
     "output_type": "stream",
     "text": [
      "The Big Bird Cage (1972)\n",
      "Miracle in Cell No. 7 (2019)\n",
      "Black Mama White Mama (1973)\n",
      "Hello, Stranger: The Movie (2021)\n",
      "Yellow Rose (I) (2019)\n",
      "Eerie (2018)\n",
      "Women in Cages (1971)\n",
      "Wonder Women (1973)\n",
      "Anak ng Macho Dancer (2021)\n",
      "The Big Doll House (1971)\n",
      "Hello, Stranger (2020)\n",
      "The House Arrest of Us (2020–2021)\n",
      "Raw Force (1982)\n",
      "Maria (II) (2019)\n",
      "Just a Stranger (2019)\n",
      "Gaya sa pelikula (2020– )\n",
      "Cuddle Weather (2019)\n",
      "www.XXX.com (2003)\n",
      "U-Turn (2020)\n",
      "BuyBust (2018)\n",
      "Adan (2019)\n",
      "Gameboys (2020– )\n",
      "The Panti Sisters (2019)\n",
      "Must Be... Love (2013)\n",
      "Wheels of Fire (1985)\n",
      "Watch List (2019)\n",
      "Paglaki ko, gusto kong maging pornstar (2021)\n",
      "Sex Drive (2003)\n",
      "Always Be My Maybe (2016)\n",
      "Manila in the Claws of Light (1975)\n",
      "F#*@bois (2019)\n",
      "On the Wings of Love (2015–2016)\n",
      "Can't Help Falling in Love (2017)\n",
      "My Neighbor's Wife (2011)\n",
      "The Hows of Us (2018)\n",
      "TNT Jackson (1974)\n",
      "The Mistress (I) (2012)\n",
      "Stryker (1983)\n",
      "Ang babaeng humayo (2016)\n",
      "Hello, Love, Goodbye (2019)\n",
      "Dahil mahal na mahal kita (1998)\n",
      "Rigodon (2012)\n",
      "Beyond Atlantis (1973)\n",
      "Got 2 Believe (2002)\n",
      "Isa pa, with feelings (2019)\n",
      "Metamorphosis (VI) (2019)\n",
      "Quezon's Game (2018)\n",
      "My Ex and Whys (2017)\n",
      "The Twilight People (1972)\n",
      "Macho Dancer (1988)\n"
     ]
    }
   ],
   "source": [
    "index = 1\n",
    "base_url = f\"https://www.imdb.com/search/title/?country_of_origin=ph&start={index}\"\n",
    "src = requests.get(base_url, headers = {'User-Agent':'Mozilla/5.0 (X11; Linux)'})\n",
    "soup = BeautifulSoup(src.content, 'lxml')\n",
    "content = soup.find_all('h3', {'class':'lister-item-header'})\n",
    "\n",
    "for item in content:\n",
    "    titles = item.find('a').text\n",
    "    years = item.find_all('span')[1].text\n",
    "    print(titles, years)\n"
   ]
  },
  {
   "cell_type": "code",
   "execution_count": 18,
   "metadata": {},
   "outputs": [
    {
     "data": {
      "text/plain": [
       "<h3 class=\"lister-item-header\">\n",
       "<span class=\"lister-item-index unbold text-primary\">1.</span>\n",
       "<a href=\"/title/tt0068273/?ref_=adv_li_tt\">The Big Bird Cage</a>\n",
       "<span class=\"lister-item-year text-muted unbold\">(1972)</span>\n",
       "</h3>"
      ]
     },
     "execution_count": 18,
     "metadata": {},
     "output_type": "execute_result"
    }
   ],
   "source": [
    "content[0]"
   ]
  },
  {
   "cell_type": "code",
   "execution_count": 5,
   "metadata": {},
   "outputs": [
    {
     "data": {
      "text/plain": [
       "10"
      ]
     },
     "execution_count": 5,
     "metadata": {},
     "output_type": "execute_result"
    }
   ],
   "source": [
    "tab_tag = soup.find_all('table', {'class':'wikitable'})\n",
    "len(tab_tag)"
   ]
  },
  {
   "cell_type": "code",
   "execution_count": 6,
   "metadata": {},
   "outputs": [],
   "source": [
    "lst = []"
   ]
  },
  {
   "cell_type": "code",
   "execution_count": 7,
   "metadata": {},
   "outputs": [],
   "source": [
    "df = pd.DataFrame()"
   ]
  },
  {
   "cell_type": "code",
   "execution_count": 8,
   "metadata": {},
   "outputs": [
    {
     "name": "stdout",
     "output_type": "stream",
     "text": [
      "[0 1 2 3 4 5 6 7 8 9]\n"
     ]
    }
   ],
   "source": [
    "count = np.arange(10)\n",
    "print(count)"
   ]
  },
  {
   "cell_type": "code",
   "execution_count": 9,
   "metadata": {},
   "outputs": [],
   "source": [
    "for i in count:\n",
    "    tab_ = pd.read_html(str(tab_tag[i]))\n",
    "    df_ = pd.DataFrame(tab_[0])\n",
    "    df = pd.concat([df, df_], axis = 0)"
   ]
  },
  {
   "cell_type": "code",
   "execution_count": 10,
   "metadata": {},
   "outputs": [],
   "source": [
    "movie_title = [x for x in df['Title']]"
   ]
  },
  {
   "cell_type": "code",
   "execution_count": 11,
   "metadata": {},
   "outputs": [],
   "source": [
    "movie_title.remove('2000')\n",
    "movie_title.remove('2001')\n",
    "movie_title.remove('2002')\n",
    "movie_title.remove('2003')\n",
    "movie_title.remove('2004')\n",
    "movie_title.remove('2005')\n",
    "movie_title.remove('2006')\n",
    "movie_title.remove('2007')\n",
    "movie_title.remove('2008')\n",
    "movie_title.remove('2009')"
   ]
  },
  {
   "cell_type": "code",
   "execution_count": 12,
   "metadata": {},
   "outputs": [],
   "source": [
    "# movie_title"
   ]
  },
  {
   "cell_type": "code",
   "execution_count": 13,
   "metadata": {},
   "outputs": [],
   "source": [
    "# 2010"
   ]
  },
  {
   "cell_type": "code",
   "execution_count": 14,
   "metadata": {},
   "outputs": [],
   "source": [
    "base_ten_url = \"https://en.wikipedia.org/wiki/List_of_Philippine_films_of_2010\""
   ]
  },
  {
   "cell_type": "code",
   "execution_count": 15,
   "metadata": {},
   "outputs": [],
   "source": [
    "src = requests.get(base_ten_url, headers = {'User-Agent':'Mozilla/5.0 (X11; Linux)'})"
   ]
  },
  {
   "cell_type": "code",
   "execution_count": 16,
   "metadata": {},
   "outputs": [],
   "source": [
    "soup = BeautifulSoup(src.content, 'lxml')"
   ]
  },
  {
   "cell_type": "code",
   "execution_count": 17,
   "metadata": {},
   "outputs": [],
   "source": [
    "tab_ten = soup.find_all('table', {'class':'wikitable'})"
   ]
  },
  {
   "cell_type": "code",
   "execution_count": 18,
   "metadata": {},
   "outputs": [],
   "source": [
    "df_ = pd.read_html(str(tab_ten[0]))\n",
    "df_ten = pd.DataFrame(df_[0])"
   ]
  },
  {
   "cell_type": "code",
   "execution_count": 19,
   "metadata": {},
   "outputs": [],
   "source": [
    "ten_list = [x for x in df_ten['Title']]\n",
    "movie_title = movie_title + ten_list"
   ]
  },
  {
   "cell_type": "code",
   "execution_count": 20,
   "metadata": {},
   "outputs": [
    {
     "data": {
      "text/plain": [
       "['Abandonada',\n",
       " 'Akin Ang Labang Ito',\n",
       " 'Anak',\n",
       " 'Ang Dalubhasa',\n",
       " 'Anghel Dela Guardia',\n",
       " 'Arayyy!',\n",
       " 'Baliktaran',\n",
       " 'Basta Tricycle Driver... Sweet Lover',\n",
       " 'Birthday Gift 2',\n",
       " 'Biyaheng Langit']"
      ]
     },
     "execution_count": 20,
     "metadata": {},
     "output_type": "execute_result"
    }
   ],
   "source": [
    "movie_title[:10]"
   ]
  },
  {
   "cell_type": "code",
   "execution_count": 21,
   "metadata": {},
   "outputs": [],
   "source": [
    "# 2011"
   ]
  },
  {
   "cell_type": "code",
   "execution_count": 22,
   "metadata": {},
   "outputs": [],
   "source": [
    "base_ele_url = \"https://en.wikipedia.org/wiki/List_of_Philippine_films_of_2011\""
   ]
  },
  {
   "cell_type": "code",
   "execution_count": 23,
   "metadata": {},
   "outputs": [],
   "source": [
    "src = requests.get(base_ele_url, headers = {'User-Agent':'Mozilla/5.0 (X11; Linux)'})"
   ]
  },
  {
   "cell_type": "code",
   "execution_count": 24,
   "metadata": {},
   "outputs": [],
   "source": [
    "soup = BeautifulSoup(src.content, 'lxml')"
   ]
  },
  {
   "cell_type": "code",
   "execution_count": 25,
   "metadata": {},
   "outputs": [],
   "source": [
    "tab_ele = soup.find_all('table', {'class':'wikitable'})"
   ]
  },
  {
   "cell_type": "code",
   "execution_count": 26,
   "metadata": {},
   "outputs": [],
   "source": [
    "df_ = pd.read_html(str(tab_ele[1]))\n",
    "df_ele = pd.DataFrame(df_[0])"
   ]
  },
  {
   "cell_type": "code",
   "execution_count": 27,
   "metadata": {},
   "outputs": [],
   "source": [
    "ele_list = [x for x in df_ele['Title']]\n",
    "movie_title = movie_title + ele_list"
   ]
  },
  {
   "cell_type": "code",
   "execution_count": 28,
   "metadata": {},
   "outputs": [
    {
     "data": {
      "text/plain": [
       "['Third World Happy',\n",
       " 'Tum: My Pledge of Love',\n",
       " 'Tween Academy: Class of 2012',\n",
       " 'Tumbok',\n",
       " 'Way Back Home',\n",
       " 'Wedding Tayo, Wedding Hindi',\n",
       " \"Who's That Girl\",\n",
       " \"Won't Last A Day Without You\",\n",
       " 'Yesterday, Today, Tomorrow',\n",
       " 'Zombadings 1: Patayin sa Shokot si Remington']"
      ]
     },
     "execution_count": 28,
     "metadata": {},
     "output_type": "execute_result"
    }
   ],
   "source": [
    "movie_title[-10:]"
   ]
  },
  {
   "cell_type": "code",
   "execution_count": 29,
   "metadata": {},
   "outputs": [],
   "source": [
    "# 2012"
   ]
  },
  {
   "cell_type": "code",
   "execution_count": 30,
   "metadata": {},
   "outputs": [],
   "source": [
    "base_twl_url = \"https://en.wikipedia.org/wiki/List_of_Philippine_films_of_2012\""
   ]
  },
  {
   "cell_type": "code",
   "execution_count": 31,
   "metadata": {},
   "outputs": [],
   "source": [
    "src = requests.get(base_twl_url, headers = {'User-Agent':'Mozilla/5.0 (X11; Linux)'})"
   ]
  },
  {
   "cell_type": "code",
   "execution_count": 32,
   "metadata": {},
   "outputs": [],
   "source": [
    "soup = BeautifulSoup(src.content, 'lxml')"
   ]
  },
  {
   "cell_type": "code",
   "execution_count": 33,
   "metadata": {},
   "outputs": [],
   "source": [
    "tab_twl = soup.find_all('table', {'class':'wikitable'})"
   ]
  },
  {
   "cell_type": "code",
   "execution_count": 34,
   "metadata": {},
   "outputs": [],
   "source": [
    "count_ = np.arange(1,5)"
   ]
  },
  {
   "cell_type": "code",
   "execution_count": 35,
   "metadata": {},
   "outputs": [],
   "source": [
    "df_s = pd.DataFrame()"
   ]
  },
  {
   "cell_type": "code",
   "execution_count": 36,
   "metadata": {},
   "outputs": [
    {
     "name": "stdout",
     "output_type": "stream",
     "text": [
      "[1 2 3 4]\n"
     ]
    }
   ],
   "source": [
    "print(count_)"
   ]
  },
  {
   "cell_type": "code",
   "execution_count": 37,
   "metadata": {},
   "outputs": [],
   "source": [
    "for i in count_:\n",
    "    tab_ = pd.read_html(str(tab_twl[i]))\n",
    "    df_ = pd.DataFrame(tab_[0])\n",
    "    #print(df_)\n",
    "    df_s = pd.concat([df_s, df_], axis = 0)"
   ]
  },
  {
   "cell_type": "code",
   "execution_count": 38,
   "metadata": {},
   "outputs": [],
   "source": [
    "twl_list = [x for x in df_s['Title']]"
   ]
  },
  {
   "cell_type": "code",
   "execution_count": 39,
   "metadata": {},
   "outputs": [],
   "source": [
    "movie_title += twl_list"
   ]
  },
  {
   "cell_type": "code",
   "execution_count": 40,
   "metadata": {},
   "outputs": [
    {
     "data": {
      "text/plain": [
       "['Flames of Love',\n",
       " 'MNL 143',\n",
       " 'Si Agimat, Si Enteng, at Si Ako',\n",
       " 'El Presidente',\n",
       " 'One More Try',\n",
       " 'Shake, Rattle & Roll 14',\n",
       " 'Sisterakas',\n",
       " 'Sosy Problems',\n",
       " 'The Strangers',\n",
       " 'Thy Womb']"
      ]
     },
     "execution_count": 40,
     "metadata": {},
     "output_type": "execute_result"
    }
   ],
   "source": [
    "movie_title[-10:]"
   ]
  },
  {
   "cell_type": "code",
   "execution_count": 41,
   "metadata": {},
   "outputs": [],
   "source": [
    "# 2013"
   ]
  },
  {
   "cell_type": "code",
   "execution_count": 42,
   "metadata": {},
   "outputs": [],
   "source": [
    "base_trt_url = \"https://en.wikipedia.org/wiki/List_of_Philippine_films_of_2013\""
   ]
  },
  {
   "cell_type": "code",
   "execution_count": 43,
   "metadata": {},
   "outputs": [],
   "source": [
    "src = requests.get(base_trt_url, headers = {'User-Agent':'Mozilla/5.0 (X11; Linux)'})"
   ]
  },
  {
   "cell_type": "code",
   "execution_count": 44,
   "metadata": {},
   "outputs": [],
   "source": [
    "soup = BeautifulSoup(src.content, 'lxml')"
   ]
  },
  {
   "cell_type": "code",
   "execution_count": 45,
   "metadata": {},
   "outputs": [],
   "source": [
    "tab_trt = soup.find_all('table', {'class':'wikitable'})"
   ]
  },
  {
   "cell_type": "code",
   "execution_count": 46,
   "metadata": {},
   "outputs": [],
   "source": [
    "count_ = np.arange(1,5)"
   ]
  },
  {
   "cell_type": "code",
   "execution_count": 47,
   "metadata": {},
   "outputs": [],
   "source": [
    "df_s = pd.DataFrame()"
   ]
  },
  {
   "cell_type": "code",
   "execution_count": 48,
   "metadata": {},
   "outputs": [
    {
     "name": "stdout",
     "output_type": "stream",
     "text": [
      "[1 2 3 4]\n"
     ]
    }
   ],
   "source": [
    "print(count_)"
   ]
  },
  {
   "cell_type": "code",
   "execution_count": 49,
   "metadata": {},
   "outputs": [],
   "source": [
    "for i in count_:\n",
    "    tab_ = pd.read_html(str(tab_trt[i]))\n",
    "    df_ = pd.DataFrame(tab_[0])\n",
    "    #print(df_)\n",
    "    df_s = pd.concat([df_s, df_], axis = 0)"
   ]
  },
  {
   "cell_type": "code",
   "execution_count": 50,
   "metadata": {},
   "outputs": [],
   "source": [
    "trt_list = [x for x in df_s['Title']]"
   ]
  },
  {
   "cell_type": "code",
   "execution_count": 51,
   "metadata": {},
   "outputs": [],
   "source": [
    "movie_title += trt_list"
   ]
  },
  {
   "cell_type": "code",
   "execution_count": 52,
   "metadata": {},
   "outputs": [
    {
     "data": {
      "text/plain": [
       "['How to Disappear Completely1',\n",
       " 'Boogie1',\n",
       " 'Girl, Boy, Bakla, Tomboy',\n",
       " 'My Little Bossings',\n",
       " 'Kimmy Dora: Ang Kiyemeng Prequel',\n",
       " 'Pagpag: Siyam na Buhay',\n",
       " '10,000 Hours',\n",
       " 'Pedro Calungsod: Batang Martir',\n",
       " 'Boy Golden: Shoot to Kill, the Arturo Porcuna Story',\n",
       " 'Kaleidoscope World']"
      ]
     },
     "execution_count": 52,
     "metadata": {},
     "output_type": "execute_result"
    }
   ],
   "source": [
    "movie_title[-10:]"
   ]
  },
  {
   "cell_type": "code",
   "execution_count": 53,
   "metadata": {},
   "outputs": [],
   "source": [
    "# 2014"
   ]
  },
  {
   "cell_type": "code",
   "execution_count": 54,
   "metadata": {},
   "outputs": [],
   "source": [
    "base_frt_url = \"https://en.wikipedia.org/wiki/List_of_Philippine_films_of_2014\""
   ]
  },
  {
   "cell_type": "code",
   "execution_count": 55,
   "metadata": {},
   "outputs": [],
   "source": [
    "src = requests.get(base_frt_url, headers = {'User-Agent':'Mozilla/5.0 (X11; Linux)'})"
   ]
  },
  {
   "cell_type": "code",
   "execution_count": 56,
   "metadata": {},
   "outputs": [],
   "source": [
    "soup = BeautifulSoup(src.content, 'lxml')"
   ]
  },
  {
   "cell_type": "code",
   "execution_count": 57,
   "metadata": {},
   "outputs": [],
   "source": [
    "tab_frt = soup.find_all('table', {'class':'wikitable'})"
   ]
  },
  {
   "cell_type": "code",
   "execution_count": 58,
   "metadata": {},
   "outputs": [],
   "source": [
    "count_ = np.arange(1,5)"
   ]
  },
  {
   "cell_type": "code",
   "execution_count": 59,
   "metadata": {},
   "outputs": [],
   "source": [
    "df_s = pd.DataFrame()"
   ]
  },
  {
   "cell_type": "code",
   "execution_count": 60,
   "metadata": {},
   "outputs": [
    {
     "name": "stdout",
     "output_type": "stream",
     "text": [
      "[1 2 3 4]\n"
     ]
    }
   ],
   "source": [
    "print(count_)"
   ]
  },
  {
   "cell_type": "code",
   "execution_count": 61,
   "metadata": {},
   "outputs": [],
   "source": [
    "for i in count_:\n",
    "    tab_ = pd.read_html(str(tab_frt[i]))\n",
    "    df_ = pd.DataFrame(tab_[0])\n",
    "    #print(df_)\n",
    "    df_s = pd.concat([df_s, df_], axis = 0)"
   ]
  },
  {
   "cell_type": "code",
   "execution_count": 62,
   "metadata": {},
   "outputs": [],
   "source": [
    "frt_list = [x for x in df_s['Title']]"
   ]
  },
  {
   "cell_type": "code",
   "execution_count": 63,
   "metadata": {},
   "outputs": [],
   "source": [
    "movie_title += frt_list"
   ]
  },
  {
   "cell_type": "code",
   "execution_count": 64,
   "metadata": {},
   "outputs": [
    {
     "data": {
      "text/plain": [
       "['Mulat',\n",
       " 'Gangster Lolo',\n",
       " 'Bonifacio: Ang Unang Pangulo',\n",
       " 'English Only, Please',\n",
       " 'Feng Shui 2',\n",
       " 'Kubot: The Aswang Chronicles 2',\n",
       " 'Magnum Muslim.357',\n",
       " 'My Big Bossing',\n",
       " 'The Amazing Praybeyt Benjamin',\n",
       " 'Shake, Rattle & Roll XV']"
      ]
     },
     "execution_count": 64,
     "metadata": {},
     "output_type": "execute_result"
    }
   ],
   "source": [
    "movie_title[-10:]"
   ]
  },
  {
   "cell_type": "code",
   "execution_count": 65,
   "metadata": {},
   "outputs": [],
   "source": [
    "# 2015"
   ]
  },
  {
   "cell_type": "code",
   "execution_count": 66,
   "metadata": {},
   "outputs": [],
   "source": [
    "base_frt_url = \"https://en.wikipedia.org/wiki/List_of_Philippine_films_of_2015\""
   ]
  },
  {
   "cell_type": "code",
   "execution_count": 67,
   "metadata": {},
   "outputs": [],
   "source": [
    "src = requests.get(base_frt_url, headers = {'User-Agent':'Mozilla/5.0 (X11; Linux)'})"
   ]
  },
  {
   "cell_type": "code",
   "execution_count": 68,
   "metadata": {},
   "outputs": [],
   "source": [
    "soup = BeautifulSoup(src.content, 'lxml')"
   ]
  },
  {
   "cell_type": "code",
   "execution_count": 69,
   "metadata": {},
   "outputs": [],
   "source": [
    "tab_ftn = soup.find_all('table', {'class':'wikitable'})"
   ]
  },
  {
   "cell_type": "code",
   "execution_count": 70,
   "metadata": {},
   "outputs": [],
   "source": [
    "count_ = np.arange(1,5)"
   ]
  },
  {
   "cell_type": "code",
   "execution_count": 71,
   "metadata": {},
   "outputs": [],
   "source": [
    "df_s = pd.DataFrame()"
   ]
  },
  {
   "cell_type": "code",
   "execution_count": 72,
   "metadata": {},
   "outputs": [
    {
     "name": "stdout",
     "output_type": "stream",
     "text": [
      "[1 2 3 4]\n"
     ]
    }
   ],
   "source": [
    "print(count_)"
   ]
  },
  {
   "cell_type": "code",
   "execution_count": 73,
   "metadata": {},
   "outputs": [],
   "source": [
    "for i in count_:\n",
    "    tab_ = pd.read_html(str(tab_ftn[i]))\n",
    "    df_ = pd.DataFrame(tab_[0])\n",
    "    #print(df_)\n",
    "    df_s = pd.concat([df_s, df_], axis = 0)"
   ]
  },
  {
   "cell_type": "code",
   "execution_count": 74,
   "metadata": {},
   "outputs": [],
   "source": [
    "ftn_list = [x for x in df_s['Title']]"
   ]
  },
  {
   "cell_type": "code",
   "execution_count": 75,
   "metadata": {},
   "outputs": [],
   "source": [
    "movie_title += ftn_list"
   ]
  },
  {
   "cell_type": "code",
   "execution_count": 76,
   "metadata": {},
   "outputs": [
    {
     "data": {
      "text/plain": [
       "['Toto',\n",
       " 'Turo-Turo',\n",
       " 'All You Need Is Pag-Ibig',\n",
       " 'Beauty and the Bestie',\n",
       " 'Buy Now, Die Later',\n",
       " 'Haunted Mansion',\n",
       " 'Honor Thy Father',\n",
       " 'My Bebe Love: #KiligPaMore',\n",
       " 'Nilalang',\n",
       " '#Walang Forever']"
      ]
     },
     "execution_count": 76,
     "metadata": {},
     "output_type": "execute_result"
    }
   ],
   "source": [
    "movie_title[-10:]"
   ]
  },
  {
   "cell_type": "code",
   "execution_count": 77,
   "metadata": {},
   "outputs": [],
   "source": [
    "# 2016"
   ]
  },
  {
   "cell_type": "code",
   "execution_count": 78,
   "metadata": {},
   "outputs": [],
   "source": [
    "base_frt_url = \"https://en.wikipedia.org/wiki/List_of_Philippine_films_of_2016\""
   ]
  },
  {
   "cell_type": "code",
   "execution_count": 79,
   "metadata": {},
   "outputs": [],
   "source": [
    "src = requests.get(base_frt_url, headers = {'User-Agent':'Mozilla/5.0 (X11; Linux)'})"
   ]
  },
  {
   "cell_type": "code",
   "execution_count": 80,
   "metadata": {},
   "outputs": [],
   "source": [
    "soup = BeautifulSoup(src.content, 'lxml')"
   ]
  },
  {
   "cell_type": "code",
   "execution_count": 81,
   "metadata": {},
   "outputs": [],
   "source": [
    "tab_sx = soup.find_all('table', {'class':'wikitable'})"
   ]
  },
  {
   "cell_type": "code",
   "execution_count": 82,
   "metadata": {},
   "outputs": [],
   "source": [
    "count_ = np.arange(1,5)"
   ]
  },
  {
   "cell_type": "code",
   "execution_count": 83,
   "metadata": {},
   "outputs": [],
   "source": [
    "df_s = pd.DataFrame()"
   ]
  },
  {
   "cell_type": "code",
   "execution_count": 84,
   "metadata": {},
   "outputs": [
    {
     "name": "stdout",
     "output_type": "stream",
     "text": [
      "[1 2 3 4]\n"
     ]
    }
   ],
   "source": [
    "print(count_)"
   ]
  },
  {
   "cell_type": "code",
   "execution_count": 85,
   "metadata": {},
   "outputs": [],
   "source": [
    "for i in count_:\n",
    "    tab_ = pd.read_html(str(tab_sx[i]))\n",
    "    df_ = pd.DataFrame(tab_[0])\n",
    "    #print(df_)\n",
    "    df_s = pd.concat([df_s, df_], axis = 0)"
   ]
  },
  {
   "cell_type": "code",
   "execution_count": 86,
   "metadata": {},
   "outputs": [],
   "source": [
    "sx_list = [x for x in df_s['Title']]"
   ]
  },
  {
   "cell_type": "code",
   "execution_count": 87,
   "metadata": {},
   "outputs": [],
   "source": [
    "movie_title += sx_list"
   ]
  },
  {
   "cell_type": "code",
   "execution_count": 88,
   "metadata": {},
   "outputs": [
    {
     "data": {
      "text/plain": [
       "['Enteng Kabisote 10 and the Abangers',\n",
       " 'Mano Po 7: Tsinoy',\n",
       " 'Ang Babae sa Septic Tank 2: #ForeverIsNotEnough',\n",
       " 'Die Beautiful',\n",
       " 'Kabisera',\n",
       " 'Oro',\n",
       " 'Saving Sally',\n",
       " 'Seklusyon',\n",
       " 'Sunday Beauty Queen',\n",
       " 'Vince & Kath & James']"
      ]
     },
     "execution_count": 88,
     "metadata": {},
     "output_type": "execute_result"
    }
   ],
   "source": [
    "movie_title[-10:]"
   ]
  },
  {
   "cell_type": "code",
   "execution_count": 89,
   "metadata": {},
   "outputs": [],
   "source": [
    "# 2017"
   ]
  },
  {
   "cell_type": "code",
   "execution_count": 90,
   "metadata": {},
   "outputs": [],
   "source": [
    "base_svt_url = \"https://en.wikipedia.org/wiki/List_of_Philippine_films_of_2017\""
   ]
  },
  {
   "cell_type": "code",
   "execution_count": 91,
   "metadata": {},
   "outputs": [],
   "source": [
    "src = requests.get(base_svt_url, headers = {'User-Agent':'Mozilla/5.0 (X11; Linux)'})"
   ]
  },
  {
   "cell_type": "code",
   "execution_count": 92,
   "metadata": {},
   "outputs": [],
   "source": [
    "soup = BeautifulSoup(src.content, 'lxml')"
   ]
  },
  {
   "cell_type": "code",
   "execution_count": 93,
   "metadata": {},
   "outputs": [],
   "source": [
    "tab_svt = soup.find_all('table', {'class':'wikitable'})"
   ]
  },
  {
   "cell_type": "code",
   "execution_count": 94,
   "metadata": {},
   "outputs": [],
   "source": [
    "count_ = np.arange(1,5)"
   ]
  },
  {
   "cell_type": "code",
   "execution_count": 95,
   "metadata": {},
   "outputs": [],
   "source": [
    "df_s = pd.DataFrame()"
   ]
  },
  {
   "cell_type": "code",
   "execution_count": 96,
   "metadata": {},
   "outputs": [
    {
     "name": "stdout",
     "output_type": "stream",
     "text": [
      "[1 2 3 4]\n"
     ]
    }
   ],
   "source": [
    "print(count_)"
   ]
  },
  {
   "cell_type": "code",
   "execution_count": 97,
   "metadata": {},
   "outputs": [],
   "source": [
    "for i in count_:\n",
    "    tab_ = pd.read_html(str(tab_svt[i]))\n",
    "    df_ = pd.DataFrame(tab_[0])\n",
    "    #print(df_)\n",
    "    df_s = pd.concat([df_s, df_], axis = 0)"
   ]
  },
  {
   "cell_type": "code",
   "execution_count": 98,
   "metadata": {},
   "outputs": [],
   "source": [
    "svt_list = [x for x in df_s['Title']]"
   ]
  },
  {
   "cell_type": "code",
   "execution_count": 99,
   "metadata": {},
   "outputs": [],
   "source": [
    "movie_title += svt_list"
   ]
  },
  {
   "cell_type": "code",
   "execution_count": 100,
   "metadata": {},
   "outputs": [
    {
     "data": {
      "text/plain": [
       "['Kamandag ng Droga',\n",
       " 'Smaller and Smaller Circles',\n",
       " 'All of You',\n",
       " 'Deadma Walking',\n",
       " 'Gandarrapiddo: The Revenger Squad',\n",
       " 'Haunted Forest',\n",
       " 'Ang Larawan',\n",
       " 'Meant to Beh',\n",
       " 'Ang Panday',\n",
       " 'Siargao']"
      ]
     },
     "execution_count": 100,
     "metadata": {},
     "output_type": "execute_result"
    }
   ],
   "source": [
    "movie_title[-10:]"
   ]
  },
  {
   "cell_type": "code",
   "execution_count": 101,
   "metadata": {},
   "outputs": [],
   "source": [
    "# 2018"
   ]
  },
  {
   "cell_type": "code",
   "execution_count": 102,
   "metadata": {},
   "outputs": [],
   "source": [
    "base_eth_url = \"https://en.wikipedia.org/wiki/List_of_Philippine_films_of_2018\""
   ]
  },
  {
   "cell_type": "code",
   "execution_count": 103,
   "metadata": {},
   "outputs": [],
   "source": [
    "src = requests.get(base_eth_url, headers = {'User-Agent':'Mozilla/5.0 (X11; Linux)'})"
   ]
  },
  {
   "cell_type": "code",
   "execution_count": 104,
   "metadata": {},
   "outputs": [],
   "source": [
    "soup = BeautifulSoup(src.content, 'lxml')"
   ]
  },
  {
   "cell_type": "code",
   "execution_count": 105,
   "metadata": {},
   "outputs": [],
   "source": [
    "tab_eth = soup.find_all('table', {'class':'wikitable'})"
   ]
  },
  {
   "cell_type": "code",
   "execution_count": 106,
   "metadata": {},
   "outputs": [],
   "source": [
    "count_ = np.arange(1,5)"
   ]
  },
  {
   "cell_type": "code",
   "execution_count": 107,
   "metadata": {},
   "outputs": [],
   "source": [
    "df_s = pd.DataFrame()"
   ]
  },
  {
   "cell_type": "code",
   "execution_count": 108,
   "metadata": {},
   "outputs": [
    {
     "name": "stdout",
     "output_type": "stream",
     "text": [
      "[1 2 3 4]\n"
     ]
    }
   ],
   "source": [
    "print(count_)"
   ]
  },
  {
   "cell_type": "code",
   "execution_count": 109,
   "metadata": {},
   "outputs": [],
   "source": [
    "for i in count_:\n",
    "    tab_ = pd.read_html(str(tab_eth[i]))\n",
    "    df_ = pd.DataFrame(tab_[0])\n",
    "    #print(df_)\n",
    "    df_s = pd.concat([df_s, df_], axis = 0)"
   ]
  },
  {
   "cell_type": "code",
   "execution_count": 110,
   "metadata": {},
   "outputs": [],
   "source": [
    "eth_list = [x for x in df_s['Title']]"
   ]
  },
  {
   "cell_type": "code",
   "execution_count": 111,
   "metadata": {},
   "outputs": [],
   "source": [
    "movie_title += eth_list"
   ]
  },
  {
   "cell_type": "code",
   "execution_count": 112,
   "metadata": {},
   "outputs": [
    {
     "data": {
      "text/plain": [
       "['Kahit Ayaw Mo Na',\n",
       " 'Everybody Loves Baby Wendy',\n",
       " 'Aurora',\n",
       " 'Fantastica: The Princesses, The Prince and The Perya',\n",
       " 'The Girl in the Orange Dress',\n",
       " 'Jack Em Popoy: The Puliscredibles',\n",
       " 'Mary, Marry Me',\n",
       " 'One Great Love',\n",
       " 'Otlum',\n",
       " \"Rainbow's Sunset\"]"
      ]
     },
     "execution_count": 112,
     "metadata": {},
     "output_type": "execute_result"
    }
   ],
   "source": [
    "movie_title[-10:]"
   ]
  },
  {
   "cell_type": "code",
   "execution_count": 113,
   "metadata": {},
   "outputs": [],
   "source": [
    "# 2019"
   ]
  },
  {
   "cell_type": "code",
   "execution_count": 114,
   "metadata": {},
   "outputs": [],
   "source": [
    "base_nth_url = \"https://en.wikipedia.org/wiki/List_of_Philippine_films_of_2019\""
   ]
  },
  {
   "cell_type": "code",
   "execution_count": 115,
   "metadata": {},
   "outputs": [],
   "source": [
    "src = requests.get(base_nth_url, headers = {'User-Agent':'Mozilla/5.0 (X11; Linux)'})"
   ]
  },
  {
   "cell_type": "code",
   "execution_count": 116,
   "metadata": {},
   "outputs": [],
   "source": [
    "soup = BeautifulSoup(src.content, 'lxml')"
   ]
  },
  {
   "cell_type": "code",
   "execution_count": 117,
   "metadata": {},
   "outputs": [],
   "source": [
    "tab_nth = soup.find_all('table', {'class':'wikitable'})"
   ]
  },
  {
   "cell_type": "code",
   "execution_count": 118,
   "metadata": {},
   "outputs": [],
   "source": [
    "count_ = np.arange(1,5)"
   ]
  },
  {
   "cell_type": "code",
   "execution_count": 119,
   "metadata": {},
   "outputs": [],
   "source": [
    "df_s = pd.DataFrame()"
   ]
  },
  {
   "cell_type": "code",
   "execution_count": 120,
   "metadata": {},
   "outputs": [
    {
     "name": "stdout",
     "output_type": "stream",
     "text": [
      "[1 2 3 4]\n"
     ]
    }
   ],
   "source": [
    "print(count_)"
   ]
  },
  {
   "cell_type": "code",
   "execution_count": 121,
   "metadata": {},
   "outputs": [],
   "source": [
    "for i in count_:\n",
    "    tab_ = pd.read_html(str(tab_nth[i]))\n",
    "    df_ = pd.DataFrame(tab_[0])\n",
    "    #print(df_)\n",
    "    df_s = pd.concat([df_s, df_], axis = 0)"
   ]
  },
  {
   "cell_type": "code",
   "execution_count": 122,
   "metadata": {},
   "outputs": [],
   "source": [
    "nth_list = [x for x in df_s['Title']]"
   ]
  },
  {
   "cell_type": "code",
   "execution_count": 123,
   "metadata": {},
   "outputs": [],
   "source": [
    "movie_title += nth_list"
   ]
  },
  {
   "cell_type": "code",
   "execution_count": 124,
   "metadata": {},
   "outputs": [
    {
     "data": {
      "text/plain": [
       "['Sunod',\n",
       " 'Miracle in Cell No.7',\n",
       " 'Mission Unstapabol: The Don Identity',\n",
       " 'The Mall, The Merrier',\n",
       " 'Mindanao',\n",
       " '3pol Trobol: Huli Ka Balbon',\n",
       " 'Culion',\n",
       " 'Write About Love',\n",
       " nan,\n",
       " nan]"
      ]
     },
     "execution_count": 124,
     "metadata": {},
     "output_type": "execute_result"
    }
   ],
   "source": [
    "movie_title[-10:]"
   ]
  },
  {
   "cell_type": "code",
   "execution_count": 125,
   "metadata": {},
   "outputs": [],
   "source": [
    "# 2020"
   ]
  },
  {
   "cell_type": "code",
   "execution_count": 126,
   "metadata": {},
   "outputs": [],
   "source": [
    "base_twy_url = \"https://en.wikipedia.org/wiki/List_of_Philippine_films_of_2020\""
   ]
  },
  {
   "cell_type": "code",
   "execution_count": 127,
   "metadata": {},
   "outputs": [],
   "source": [
    "src = requests.get(base_twy_url, headers = {'User-Agent':'Mozilla/5.0 (X11; Linux)'})"
   ]
  },
  {
   "cell_type": "code",
   "execution_count": 128,
   "metadata": {},
   "outputs": [],
   "source": [
    "soup = BeautifulSoup(src.content, 'lxml')"
   ]
  },
  {
   "cell_type": "code",
   "execution_count": 129,
   "metadata": {},
   "outputs": [],
   "source": [
    "tab_twy = soup.find_all('table', {'class':'wikitable'})"
   ]
  },
  {
   "cell_type": "code",
   "execution_count": 130,
   "metadata": {},
   "outputs": [],
   "source": [
    "count_ = np.arange(1,5)"
   ]
  },
  {
   "cell_type": "code",
   "execution_count": 131,
   "metadata": {},
   "outputs": [],
   "source": [
    "df_s = pd.DataFrame()"
   ]
  },
  {
   "cell_type": "code",
   "execution_count": 132,
   "metadata": {},
   "outputs": [
    {
     "name": "stdout",
     "output_type": "stream",
     "text": [
      "[1 2 3 4]\n"
     ]
    }
   ],
   "source": [
    "print(count_)"
   ]
  },
  {
   "cell_type": "code",
   "execution_count": 133,
   "metadata": {},
   "outputs": [],
   "source": [
    "for i in count_:\n",
    "    tab_ = pd.read_html(str(tab_twy[i]))\n",
    "    df_ = pd.DataFrame(tab_[0])\n",
    "    #print(df_)\n",
    "    df_s = pd.concat([df_s, df_], axis = 0)"
   ]
  },
  {
   "cell_type": "code",
   "execution_count": 134,
   "metadata": {},
   "outputs": [],
   "source": [
    "twy_list = [x for x in df_s['Title']]"
   ]
  },
  {
   "cell_type": "code",
   "execution_count": 135,
   "metadata": {},
   "outputs": [],
   "source": [
    "movie_title += twy_list"
   ]
  },
  {
   "cell_type": "code",
   "execution_count": 136,
   "metadata": {},
   "outputs": [
    {
     "data": {
      "text/plain": [
       "['Coming Home',\n",
       " 'Fan Girl',\n",
       " 'Isa Pang Bahaghari',\n",
       " 'Magikland',\n",
       " 'Mang Kepweng: Ang Lihim ng Bandanang Itim',\n",
       " 'Pakboys Takusa',\n",
       " 'Suarez: The Healing Priest',\n",
       " 'Tagpuan',\n",
       " 'The Boy Foretold by the Stars',\n",
       " 'The Missing']"
      ]
     },
     "execution_count": 136,
     "metadata": {},
     "output_type": "execute_result"
    }
   ],
   "source": [
    "movie_title[-10:]"
   ]
  },
  {
   "cell_type": "code",
   "execution_count": 137,
   "metadata": {},
   "outputs": [],
   "source": [
    "# complete list of movie 2000 to 2020"
   ]
  },
  {
   "cell_type": "code",
   "execution_count": 138,
   "metadata": {},
   "outputs": [
    {
     "data": {
      "text/plain": [
       "1322"
      ]
     },
     "execution_count": 138,
     "metadata": {},
     "output_type": "execute_result"
    }
   ],
   "source": [
    "len(movie_title)"
   ]
  },
  {
   "cell_type": "code",
   "execution_count": 139,
   "metadata": {},
   "outputs": [
    {
     "data": {
      "text/plain": [
       "1305"
      ]
     },
     "execution_count": 139,
     "metadata": {},
     "output_type": "execute_result"
    }
   ],
   "source": [
    "len(set(movie_title)) # why does the number of movies became smaller? similar titles? "
   ]
  },
  {
   "cell_type": "code",
   "execution_count": 143,
   "metadata": {},
   "outputs": [
    {
     "data": {
      "text/plain": [
       "['Pakboys Takusa',\n",
       " 'Suarez: The Healing Priest',\n",
       " 'Tagpuan',\n",
       " 'The Boy Foretold by the Stars',\n",
       " 'The Missing']"
      ]
     },
     "execution_count": 143,
     "metadata": {},
     "output_type": "execute_result"
    }
   ],
   "source": [
    "movie_title[-5:]"
   ]
  },
  {
   "cell_type": "code",
   "execution_count": 145,
   "metadata": {},
   "outputs": [],
   "source": [
    "pd.DataFrame(movie_title).to_csv('movie_titles.csv')"
   ]
  },
  {
   "cell_type": "code",
   "execution_count": null,
   "metadata": {},
   "outputs": [],
   "source": []
  }
 ],
 "metadata": {
  "kernelspec": {
   "display_name": "Python 3",
   "language": "python",
   "name": "python3"
  },
  "language_info": {
   "codemirror_mode": {
    "name": "ipython",
    "version": 3
   },
   "file_extension": ".py",
   "mimetype": "text/x-python",
   "name": "python",
   "nbconvert_exporter": "python",
   "pygments_lexer": "ipython3",
   "version": "3.8.5"
  }
 },
 "nbformat": 4,
 "nbformat_minor": 4
}
